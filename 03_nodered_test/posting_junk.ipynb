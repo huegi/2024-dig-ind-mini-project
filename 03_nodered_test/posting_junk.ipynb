{
 "cells": [
  {
   "cell_type": "markdown",
   "metadata": {},
   "source": [
    "Here we are trying to post some stuff to our nodered endpoint."
   ]
  },
  {
   "cell_type": "code",
   "execution_count": 101,
   "metadata": {},
   "outputs": [],
   "source": [
    "import requests\n",
    "import json\n",
    "import time"
   ]
  },
  {
   "cell_type": "code",
   "execution_count": 88,
   "metadata": {},
   "outputs": [],
   "source": [
    "# BASE_ADR = \"http://lifecyclelab.ch:21887/#flow/f6f2187d.f17ca8\"\n",
    "BASE_ADR = \"http://lifecyclelab.ch:21887\"\n",
    "ALARM_ADR = f\"{BASE_ADR}/alarm\"\n",
    "TIMESERIES_ADR = f\"{BASE_ADR}/timeseries\""
   ]
  },
  {
   "cell_type": "code",
   "execution_count": 93,
   "metadata": {},
   "outputs": [
    {
     "name": "stdout",
     "output_type": "stream",
     "text": [
      "{\"name\":\"Alarm Test\",\"time\":1715690243352,\"alarm_value\":\"7\",\"info\":\"ok\"}\n",
      "200\n"
     ]
    }
   ],
   "source": [
    "json_data = {\"name\": \"Alarm Test\", \"alarm_value\": 7, \"data\": [1,2,3,4,5], \"timestamp\": []}\n",
    "\n",
    "r = requests.post(ALARM_ADR, data=json_data)\n",
    "\n",
    "print(r.text)\n",
    "print(r.status_code)"
   ]
  },
  {
   "cell_type": "code",
   "execution_count": 139,
   "metadata": {},
   "outputs": [
    {
     "name": "stdout",
     "output_type": "stream",
     "text": [
      "{\"time\":1715693097481,\"info\":\"ok\"}\n",
      "200\n"
     ]
    }
   ],
   "source": [
    "timestamp_now = int(time.time() * 1000)\n",
    "\n",
    "json_data = {\n",
    "    \"timestamps\": [timestamp_now-10, timestamp_now-5, timestamp_now],\n",
    "    \"data\": [1,2,7],\n",
    "}\n",
    "\n",
    "# json_data = {\n",
    "# \"series\": [\"A\"],\n",
    "# \"data\": \n",
    "#     [{ \"x\": 1504029632890, \"y\": 5 },\n",
    "#      { \"x\": 1504029636001, \"y\": 4 },\n",
    "#      { \"x\": 1504029638656, \"y\": 2 }\n",
    "#     ],\n",
    "# \"labels\": [\"\"]\n",
    "# }\n",
    "\n",
    "r = requests.post(TIMESERIES_ADR, data=json_data)\n",
    "\n",
    "print(r.text)\n",
    "print(r.status_code)"
   ]
  }
 ],
 "metadata": {
  "kernelspec": {
   "display_name": ".venv",
   "language": "python",
   "name": "python3"
  },
  "language_info": {
   "codemirror_mode": {
    "name": "ipython",
    "version": 3
   },
   "file_extension": ".py",
   "mimetype": "text/x-python",
   "name": "python",
   "nbconvert_exporter": "python",
   "pygments_lexer": "ipython3",
   "version": "3.12.0"
  }
 },
 "nbformat": 4,
 "nbformat_minor": 2
}
